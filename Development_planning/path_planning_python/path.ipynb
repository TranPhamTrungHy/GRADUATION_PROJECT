{
 "cells": [
  {
   "cell_type": "code",
   "execution_count": 2,
   "metadata": {},
   "outputs": [],
   "source": [
    "import matlab.engine\n",
    "import numpy as np\n",
    "from math import*\n",
    "import matplotlib.pyplot as plt\n",
    "import pandas as pd\n",
    "import cv2\n",
    "from numba import jit,njit\n",
    "import time"
   ]
  },
  {
   "cell_type": "code",
   "execution_count": 3,
   "metadata": {},
   "outputs": [],
   "source": [
    "# Khởi động MATLAB engine\n",
    "eng = matlab.engine.start_matlab()"
   ]
  },
  {
   "cell_type": "code",
   "execution_count": 4,
   "metadata": {},
   "outputs": [],
   "source": [
    "\n",
    "def calculate_trajectory(map,startPoint,goalPoint):\n",
    "    startPoint = matlab.double(startPoint) # [meters, meters, radians]\n",
    "    goalPoint  = matlab.double(goalPoint)\n",
    "    map  = matlab.double(map.tolist())\n",
    "    result = eng.Hybrid_Astar(map,startPoint,goalPoint)\n",
    "    result = np.array(result)\n",
    "    point = result[:,:3]\n",
    "    point[:,2] = (point[:,2]*180/pi)-90\n",
    "    direction = result[:,3]\n",
    "    return point, direction"
   ]
  },
  {
   "cell_type": "code",
   "execution_count": 5,
   "metadata": {},
   "outputs": [
    {
     "name": "stdout",
     "output_type": "stream",
     "text": [
      "(750, 150)\n"
     ]
    }
   ],
   "source": [
    "\n",
    "map = cv2.imread('globalMapParking.png', cv2.IMREAD_GRAYSCALE)\n",
    "print(map.shape)\n",
    "@jit(nopython=True)\n",
    "def create_binary_map(map_array):\n",
    "    binary_map = np.copy(map_array)\n",
    "    # Avoid multi-dimensional indexing by iterating over each element\n",
    "    for i in range(binary_map.shape[0]):\n",
    "        for j in range(binary_map.shape[1]):\n",
    "            if binary_map[i, j] > 1:\n",
    "                binary_map[i, j] = 1\n",
    "            else :\n",
    "                binary_map[i, j] = 0\n",
    "    return binary_map\n",
    "    \n",
    "\n",
    "\n",
    "# Hàm callback khi chuột được click\n",
    "def draw_circle(event, x, y, flags, param):\n",
    "    global map\n",
    "    if event == cv2.EVENT_LBUTTONDOWN:\n",
    "        cv2.circle(map, (x, y), 1, 255, -1)\n",
    "\n",
    "\n",
    "\n",
    "# Tạo một cửa sổ OpenCV và thiết lập hàm callback\n",
    "cv2.namedWindow('Draw Circle',cv2.WINDOW_NORMAL)\n",
    "cv2.resizeWindow('Draw Circle', 300, 751)\n",
    "cv2.setMouseCallback('Draw Circle', draw_circle)\n",
    "\n",
    "while True:\n",
    "    out = create_binary_map(map)\n",
    "    cv2.imshow('Draw Circle', map)\n",
    "    # Nhấn phím 'ESC' để thoát\n",
    "    if cv2.waitKey(1) == 27:\n",
    "        cv2.destroyAllWindows()\n",
    "        break"
   ]
  },
  {
   "cell_type": "code",
   "execution_count": 6,
   "metadata": {},
   "outputs": [],
   "source": [
    "\n",
    "costValue = out\n",
    "\n",
    "# Lấy giá trị từ các ô nhập liệu điểm mục tiêu\n",
    "\n",
    "\n",
    "startPose = [130, 40, pi/2] # [meters, meters, radians]\n",
    "goalPose  = [130,430,pi/2]\n",
    "\n",
    "point_arr, dir = calculate_trajectory(map=costValue,startPoint= startPose, goalPoint= goalPose)\n",
    "\n",
    "\n"
   ]
  },
  {
   "cell_type": "code",
   "execution_count": null,
   "metadata": {},
   "outputs": [],
   "source": [
    "# Tạo ma trận chuyển đổi từ hệ quy chiếu global sang hệ quy chiếu local\n",
    "@jit(nopython=True)\n",
    "def transformation_matrix(center,arr_point_in):\n",
    "    array_out = np.array([])\n",
    "    rotation_matrix = np.array([[1, 0 ],\n",
    "                                    [0, -1],])\n",
    "    translation_vector = np.array([-center[0]+100, center[1]+100])\n",
    "    for i in range(0, len(arr_point_in)):\n",
    "        point = np.dot(rotation_matrix, arr_point_in[i]) + translation_vector\n",
    "        array_out = np.append(array_out,point,axis=0)\n",
    "    return array_out"
   ]
  },
  {
   "cell_type": "code",
   "execution_count": null,
   "metadata": {},
   "outputs": [],
   "source": []
  },
  {
   "cell_type": "code",
   "execution_count": null,
   "metadata": {},
   "outputs": [],
   "source": [
    "# eng.quit()"
   ]
  }
 ],
 "metadata": {
  "kernelspec": {
   "display_name": "Python 3",
   "language": "python",
   "name": "python3"
  },
  "language_info": {
   "codemirror_mode": {
    "name": "ipython",
    "version": 3
   },
   "file_extension": ".py",
   "mimetype": "text/x-python",
   "name": "python",
   "nbconvert_exporter": "python",
   "pygments_lexer": "ipython3",
   "version": "3.9.6"
  }
 },
 "nbformat": 4,
 "nbformat_minor": 2
}
