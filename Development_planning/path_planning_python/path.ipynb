{
 "cells": [
  {
   "cell_type": "code",
   "execution_count": 1,
   "metadata": {},
   "outputs": [],
   "source": [
    "import matlab.engine\n",
    "import numpy as np\n",
    "from math import*\n",
    "import matplotlib.pyplot as plt\n",
    "import pandas as pd\n"
   ]
  },
  {
   "cell_type": "code",
   "execution_count": 2,
   "metadata": {},
   "outputs": [],
   "source": [
    "# Khởi động MATLAB engine\n",
    "eng = matlab.engine.start_matlab()"
   ]
  },
  {
   "cell_type": "code",
   "execution_count": 3,
   "metadata": {},
   "outputs": [],
   "source": [
    "\n",
    "def calculate_total_length(arr):\n",
    "    total_length = 0\n",
    "    length_list=[]\n",
    "    length_incremental = []\n",
    "    for i in range(len(arr) - 1):\n",
    "        a1 = np.array(arr[i])\n",
    "        a2 = np.array(arr[i+1])\n",
    "        direction_A = a2 - a1\n",
    "        length = np.linalg.norm(direction_A)\n",
    "        total_length += length\n",
    "        length_incremental.append(total_length) \n",
    "        length_list.append(length)\n",
    "    return total_length,length_list,length_incremental\n",
    "\n",
    "def plot_lines_and_angle(a1, a2, a3, ax):\n",
    "    # Vẽ đường thẳng A\n",
    "    ax.plot([a1[0], a2[0]], [a1[1], a2[1]], 'b-', label='A')\n",
    "\n",
    "    # Vẽ đường thẳng B\n",
    "    ax.plot([a2[0], a3[0]], [a2[1], a3[1]], 'r-', label='B')\n",
    "\n",
    "    # Tính toán và vẽ góc giữa hai đường thẳng\n",
    "        # Chuyển đổi các vector thành dạng numpy array\n",
    "    a1 = np.array(a1)\n",
    "    a2 = np.array(a2)\n",
    "    a3 = np.array(a3)\n",
    "\n",
    "    # Tính toán vector hướng của đường thẳng A và B\n",
    "    direction_A = a2 - a1\n",
    "    direction_B = a3 - a2\n",
    "\n",
    "    # Chuẩn hóa vector hướng\n",
    "    normalized_direction_A = direction_A / np.linalg.norm(direction_A)\n",
    "    normalized_direction_B = direction_B / np.linalg.norm(direction_B)\n",
    "\n",
    "    # Tính toán góc giữa hai vector\n",
    "    angle_rad = np.arccos(np.dot(normalized_direction_A, normalized_direction_B))\n",
    "    angle_deg = np.degrees(angle_rad)\n",
    "    if direction_A[0] * direction_B[1] - direction_A[1] * direction_B[0] > 0:\n",
    "        angle_deg = angle_deg\n",
    "    else:\n",
    "        angle_deg = -angle_deg\n",
    "    angle_text = f'Angle: {angle_deg:.2f} degrees'\n",
    "    ax.text(a2[0], a2[1], angle_text, fontsize=10, ha='center')\n",
    "\n",
    "\n",
    "def calculate_trajectory(map,startPoint,goalPoint):\n",
    "    startPoint = matlab.double(startPoint) # [meters, meters, radians]\n",
    "    goalPoint  = matlab.double(goalPoint)\n",
    "    map  = matlab.double(map.tolist())\n",
    "    result = eng.Hybrid_Astar(map,startPoint,goalPoint)\n",
    "    result = np.array(result)\n",
    "    point = result[:,:3]\n",
    "    point[:,2] = (point[:,2]*180/pi)-90\n",
    "    direction = result[:,3]\n",
    "    return point, direction"
   ]
  },
  {
   "cell_type": "code",
   "execution_count": 7,
   "metadata": {},
   "outputs": [
    {
     "data": {
      "text/plain": [
       "(array([[ 2.00000000e+01,  2.15000000e+01,  1.42108547e-14],\n",
       "        [ 2.07345046e+01,  2.43765532e+01, -2.86478898e+01],\n",
       "        [ 2.23263740e+01,  2.62438878e+01, -5.22461066e+01],\n",
       "        [ 2.18263740e+01,  2.58958116e+01, -5.80662941e+01],\n",
       "        [ 2.20000000e+01,  2.60000000e+01, -6.00000000e+01]]),\n",
       " array([ 1.,  1.,  1., -1.,  1.]))"
      ]
     },
     "execution_count": 7,
     "metadata": {},
     "output_type": "execute_result"
    }
   ],
   "source": [
    "\n",
    "costValue = np.array(pd.read_csv('map2.csv'))\n",
    "startPose = [20, 21.5, pi/2] # [meters, meters, radians]\n",
    "goalPose  = [22, 26, pi/6]\n",
    "point_arr, dir = calculate_trajectory(map=costValue,startPoint= startPose, goalPoint= goalPose)\n",
    "point_arr, dir\n",
    "\n"
   ]
  },
  {
   "cell_type": "code",
   "execution_count": 5,
   "metadata": {},
   "outputs": [],
   "source": [
    "# eng.quit()"
   ]
  }
 ],
 "metadata": {
  "kernelspec": {
   "display_name": "Python 3",
   "language": "python",
   "name": "python3"
  },
  "language_info": {
   "codemirror_mode": {
    "name": "ipython",
    "version": 3
   },
   "file_extension": ".py",
   "mimetype": "text/x-python",
   "name": "python",
   "nbconvert_exporter": "python",
   "pygments_lexer": "ipython3",
   "version": "3.9.6"
  }
 },
 "nbformat": 4,
 "nbformat_minor": 2
}
