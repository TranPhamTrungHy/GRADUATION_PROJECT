{
 "cells": [
  {
   "cell_type": "code",
   "execution_count": 2,
   "metadata": {},
   "outputs": [],
   "source": [
    "import matlab.engine\n",
    "import numpy as np\n",
    "from math import*\n",
    "import matplotlib.pyplot as plt\n",
    "import pandas as pd\n",
    "import cv2\n",
    "from numba import jit,njit\n",
    "import time"
   ]
  },
  {
   "cell_type": "code",
   "execution_count": 3,
   "metadata": {},
   "outputs": [],
   "source": [
    "# Khởi động MATLAB engine\n",
    "eng = matlab.engine.start_matlab()"
   ]
  },
  {
   "cell_type": "code",
   "execution_count": 4,
   "metadata": {},
   "outputs": [],
   "source": [
    "\n",
    "def calculate_trajectory(map,startPoint,goalPoint):\n",
    "    startPoint = matlab.double(startPoint) # [meters, meters, radians]\n",
    "    goalPoint  = matlab.double(goalPoint)\n",
    "    map  = matlab.double(map.tolist())\n",
    "    result = eng.Hybrid_Astar(map,startPoint,goalPoint)\n",
    "    result = np.array(result)\n",
    "    point = result[:,:3]\n",
    "    point[:,2] = (point[:,2]*180/pi)-90\n",
    "    direction = result[:,3]\n",
    "    return point, direction"
   ]
  },
  {
   "cell_type": "code",
   "execution_count": 5,
   "metadata": {},
   "outputs": [
    {
     "name": "stdout",
     "output_type": "stream",
     "text": [
      "(750, 150)\n"
     ]
    }
   ],
   "source": [
    "\n",
    "map = cv2.imread('globalMapParking.png', cv2.IMREAD_GRAYSCALE)\n",
    "print(map.shape)\n",
    "@jit(nopython=True)\n",
    "def create_binary_map(map_array):\n",
    "    binary_map = np.copy(map_array)\n",
    "    # Avoid multi-dimensional indexing by iterating over each element\n",
    "    for i in range(binary_map.shape[0]):\n",
    "        for j in range(binary_map.shape[1]):\n",
    "            if binary_map[i, j] > 1:\n",
    "                binary_map[i, j] = 1\n",
    "            else :\n",
    "                binary_map[i, j] = 0\n",
    "    return binary_map\n",
    "    \n",
    "\n",
    "\n",
    "# Hàm callback khi chuột được click\n",
    "def draw_circle(event, x, y, flags, param):\n",
    "    global map\n",
    "    if event == cv2.EVENT_LBUTTONDOWN:\n",
    "        cv2.circle(map, (x, y), 1, 255, -1)\n",
    "\n",
    "\n",
    "\n",
    "# Tạo một cửa sổ OpenCV và thiết lập hàm callback\n",
    "cv2.namedWindow('Draw Circle',cv2.WINDOW_NORMAL)\n",
    "cv2.resizeWindow('Draw Circle', 300, 751)\n",
    "cv2.setMouseCallback('Draw Circle', draw_circle)\n",
    "\n",
    "while True:\n",
    "    out = create_binary_map(map)\n",
    "    cv2.imshow('Draw Circle', map)\n",
    "    # Nhấn phím 'ESC' để thoát\n",
    "    if cv2.waitKey(1) == 27:\n",
    "        cv2.destroyAllWindows()\n",
    "        break"
   ]
  },
  {
   "cell_type": "code",
   "execution_count": 11,
   "metadata": {},
   "outputs": [
    {
     "data": {
      "text/plain": [
       "(array([[13.        ,  7.        ],\n",
       "        [12.85049933,  8.49001998],\n",
       "        [12.43944436,  9.93154002],\n",
       "        [12.19101469, 11.40829074],\n",
       "        [12.10778623, 12.90496012],\n",
       "        [11.76153129, 14.36188068],\n",
       "        [11.41527635, 15.81880123],\n",
       "        [11.34870839, 17.3158409 ],\n",
       "        [11.34870839, 18.8158409 ],\n",
       "        [11.34870839, 20.3158409 ],\n",
       "        [11.34870839, 21.8158409 ],\n",
       "        [11.27377087, 23.31334215],\n",
       "        [11.04970706, 24.79588087],\n",
       "        [10.67875573, 26.248644  ],\n",
       "        [10.2275971 , 27.67892094],\n",
       "        [ 9.90526831, 29.14323982],\n",
       "        [ 9.65642411, 30.62245466],\n",
       "        [ 9.39937817, 32.10019587],\n",
       "        [ 9.02842684, 33.55295901],\n",
       "        [ 8.57726821, 34.98323594],\n",
       "        [ 8.25493942, 36.44755482],\n",
       "        [ 8.00609522, 37.92676967],\n",
       "        [ 7.74088281, 39.40285545],\n",
       "        [ 7.25090835, 40.81792965],\n",
       "        [ 6.60640666, 42.17128245],\n",
       "        [ 6.21178904, 43.61585399],\n",
       "        [ 5.88946024, 45.08017286],\n",
       "        [ 5.4704359 , 46.51922814],\n",
       "        [ 5.59399476, 47.99850063],\n",
       "        [ 6.41162887, 49.2374471 ],\n",
       "        [ 7.72315288, 49.93273024],\n",
       "        [ 9.21545471, 50.00058368],\n",
       "        [10.55130659, 50.43505537],\n",
       "        [10.        , 50.        ]]),\n",
       " array([ 1.,  1.,  1.,  1.,  1.,  1.,  1.,  1.,  1.,  1.,  1.,  1.,  1.,\n",
       "         1.,  1.,  1.,  1.,  1.,  1.,  1.,  1.,  1.,  1.,  1.,  1.,  1.,\n",
       "         1.,  1.,  1.,  1.,  1.,  1., -1., -1.]))"
      ]
     },
     "execution_count": 11,
     "metadata": {},
     "output_type": "execute_result"
    }
   ],
   "source": [
    "\n",
    "costValue = out\n",
    "startPose = [130, 70, pi/2] # [meters, meters, radians]\n",
    "goalPose  = [100, 500, pi/4]\n",
    "\n",
    "point_arr, dir = calculate_trajectory(map=costValue,startPoint= startPose, goalPoint= goalPose)\n",
    "point_arr[:,:2]/10, dir\n",
    "\n"
   ]
  },
  {
   "cell_type": "code",
   "execution_count": 12,
   "metadata": {},
   "outputs": [],
   "source": [
    "point_arr[:,:2]= point_arr[:,:2]/10"
   ]
  },
  {
   "cell_type": "code",
   "execution_count": 15,
   "metadata": {},
   "outputs": [
    {
     "data": {
      "text/plain": [
       "(array([[ 13,   7,   0],\n",
       "        [ 12,   8,  11],\n",
       "        [ 12,   9,  15],\n",
       "        [ 12,  11,   3],\n",
       "        [ 12,  12,   7],\n",
       "        [ 11,  14,  19],\n",
       "        [ 11,  15,   7],\n",
       "        [ 11,  17,   0],\n",
       "        [ 11,  18,   0],\n",
       "        [ 11,  20,   0],\n",
       "        [ 11,  21,   0],\n",
       "        [ 11,  23,   5],\n",
       "        [ 11,  24,  11],\n",
       "        [ 10,  26,  17],\n",
       "        [ 10,  27,  15],\n",
       "        [  9,  29,   9],\n",
       "        [  9,  30,   9],\n",
       "        [  9,  32,  11],\n",
       "        [  9,  33,  17],\n",
       "        [  8,  34,  15],\n",
       "        [  8,  36,   9],\n",
       "        [  8,  37,   9],\n",
       "        [  7,  39,  13],\n",
       "        [  7,  40,  24],\n",
       "        [  6,  42,  21],\n",
       "        [  6,  43,   9],\n",
       "        [  5,  45,  15],\n",
       "        [  5,  46,   9],\n",
       "        [  5,  47, -19],\n",
       "        [  6,  49, -47],\n",
       "        [  7,  49, -76],\n",
       "        [  9,  50, -85],\n",
       "        [ 10,  50, -58],\n",
       "        [ 10,  50, -45]]),\n",
       " array([ 1.,  1.,  1.,  1.,  1.,  1.,  1.,  1.,  1.,  1.,  1.,  1.,  1.,\n",
       "         1.,  1.,  1.,  1.,  1.,  1.,  1.,  1.,  1.,  1.,  1.,  1.,  1.,\n",
       "         1.,  1.,  1.,  1.,  1.,  1., -1., -1.]))"
      ]
     },
     "execution_count": 15,
     "metadata": {},
     "output_type": "execute_result"
    }
   ],
   "source": [
    "np.int32(point_arr), dir"
   ]
  },
  {
   "cell_type": "code",
   "execution_count": null,
   "metadata": {},
   "outputs": [],
   "source": [
    "# eng.quit()"
   ]
  }
 ],
 "metadata": {
  "kernelspec": {
   "display_name": "Python 3",
   "language": "python",
   "name": "python3"
  },
  "language_info": {
   "codemirror_mode": {
    "name": "ipython",
    "version": 3
   },
   "file_extension": ".py",
   "mimetype": "text/x-python",
   "name": "python",
   "nbconvert_exporter": "python",
   "pygments_lexer": "ipython3",
   "version": "3.9.6"
  }
 },
 "nbformat": 4,
 "nbformat_minor": 2
}
