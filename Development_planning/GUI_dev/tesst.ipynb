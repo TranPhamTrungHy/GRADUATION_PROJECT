{
 "cells": [
  {
   "cell_type": "code",
   "execution_count": 28,
   "metadata": {},
   "outputs": [
    {
     "name": "stdout",
     "output_type": "stream",
     "text": [
      "MALAB ENGINE FINISHED BEGINNING !!!\n"
     ]
    }
   ],
   "source": [
    "import cv2\n",
    "from cv2 import cuda\n",
    "from math import*\n",
    "import numpy as np\n",
    "from numba import jit,njit\n",
    "import time\n",
    "import pandas as pd\n",
    "import matlab.engine\n",
    "# Khởi động matlab engine\n",
    "eng = matlab.engine.start_matlab()\n",
    "print('MALAB ENGINE FINISHED BEGINNING !!!')"
   ]
  },
  {
   "cell_type": "code",
   "execution_count": 29,
   "metadata": {},
   "outputs": [],
   "source": [
    "def calculate_trajectory(map,startPoint,goalPoint):\n",
    "    startPoint = matlab.double(startPoint) # [meters, meters, radians]\n",
    "    goalPoint  = matlab.double(goalPoint)\n",
    "    map  = matlab.double(map.tolist())\n",
    "    result = eng.Hybrid_Astar(map,startPoint,goalPoint)\n",
    "    result = np.array(result)\n",
    "    point = result[:,:3]\n",
    "    point[:,2] = (point[:,2]*180/pi)-90\n",
    "    direction = result[:,3]\n",
    "    return point, direction"
   ]
  },
  {
   "cell_type": "code",
   "execution_count": 39,
   "metadata": {},
   "outputs": [
    {
     "name": "stdout",
     "output_type": "stream",
     "text": [
      "3\n",
      "17 17\n",
      "Elapsed (with compilation) = 0.5999853610992432\n",
      "[117, 198, 1.5707963267948966]\n",
      "False\n"
     ]
    }
   ],
   "source": [
    "local_map =np.array(pd.read_csv(\"map_test.csv\"))\n",
    "\n",
    "local_map[0,90:98]=1\n",
    "local_map[0,102:110]=1\n",
    "goalPose = [100, 198, 1.5707963267948966]\n",
    "s_state = [100, 100, (0+90)*pi/180]\n",
    "\n",
    "@jit(nopython = True)\n",
    "def check_collision_goal (loc_map, goal_x, goal_y):\n",
    "    loc_x_check = int(goal_x)\n",
    "    loc_y_check = int(200-goal_y)\n",
    "    loc_y_up = max(min(loc_y_check-10, 200), 0)\n",
    "    loc_y_down = max(min(loc_y_check+11, 200), 0)\n",
    "\n",
    "    \n",
    "    chk_right = 0\n",
    "    chk_left = 0\n",
    "    max_cnt_right = 200 - loc_x_check\n",
    "    max_cnt_left  = loc_x_check \n",
    "    collision = False\n",
    "    # dò sang bên phải \n",
    "    for cnt_right in range(0,max_cnt_right):\n",
    "        column = loc_map[loc_y_up:loc_y_down,loc_x_check+cnt_right]\n",
    "        if np.all(column == 0):\n",
    "            chk_right = chk_right + 1 \n",
    "            if chk_right == 10:\n",
    "                break\n",
    "        else: \n",
    "            chk_left = 0\n",
    "    for cnt_left in range(0,max_cnt_left):\n",
    "        column = loc_map[loc_y_up:loc_y_down,loc_x_check-cnt_left]\n",
    "        if np.all( column == 0):\n",
    "            chk_left = chk_left + 1 \n",
    "            if chk_left == 10:\n",
    "                break\n",
    "        else: \n",
    "            chk_right = 0\n",
    "    if cnt_right > max_cnt_right-5  and  cnt_left>max_cnt_left-5 :\n",
    "        collision = True\n",
    "        x_out = 0\n",
    "        y_out = 0\n",
    "    \n",
    "    elif cnt_right > max_cnt_right-5 :\n",
    "        x_out = goal_x - cnt_left + chk_left\n",
    "        y_out = goal_y\n",
    "\n",
    "\n",
    "    elif cnt_left > max_cnt_left-5:\n",
    "        x_out = goal_x + cnt_right - chk_right\n",
    "        y_out = goal_y\n",
    "\n",
    "    else:\n",
    "        if cnt_right <= cnt_left:\n",
    "            x_out = goal_x + cnt_right - chk_right\n",
    "            y_out = goal_y\n",
    "\n",
    "        else:\n",
    "            x_out = goal_x - cnt_left + chk_left\n",
    "            y_out = goal_y\n",
    "\n",
    "\n",
    "    map = np.copy(loc_map)\n",
    "    return map,collision, x_out,y_out\n",
    "start = time.time()\n",
    "\n",
    "\n",
    "chk_local_map, check_colision, checked_goal_x, checked_goal_y = check_collision_goal (loc_map = local_map, goal_x = goalPose[0], goal_y = goalPose[1])\n",
    "goalChecked = [int(checked_goal_x),int(checked_goal_y), goalPose[2]]\n",
    "end = time.time()\n",
    "print(\"Elapsed (with compilation) = %s\" % (end - start))\n",
    "print(goalChecked)\n",
    "print(check_colision)\n",
    "# list_state, list_direction = calculate_trajectory(map = chk_local_map ,startPoint = s_state, goalPoint = goalChecked)\n"
   ]
  },
  {
   "cell_type": "code",
   "execution_count": 31,
   "metadata": {},
   "outputs": [
    {
     "ename": "IndexError",
     "evalue": "index 105 is out of bounds for axis 0 with size 10",
     "output_type": "error",
     "traceback": [
      "\u001b[1;31m---------------------------------------------------------------------------\u001b[0m",
      "\u001b[1;31mIndexError\u001b[0m                                Traceback (most recent call last)",
      "Cell \u001b[1;32mIn[31], line 1\u001b[0m\n\u001b[1;32m----> 1\u001b[0m column \u001b[38;5;241m=\u001b[39m \u001b[43mlocal_map\u001b[49m\u001b[43m[\u001b[49m\u001b[38;5;241;43m0\u001b[39;49m\u001b[43m:\u001b[49m\u001b[38;5;241;43m10\u001b[39;49m\u001b[43m]\u001b[49m\u001b[43m[\u001b[49m\u001b[38;5;241;43m105\u001b[39;49m\u001b[43m]\u001b[49m\n\u001b[0;32m      2\u001b[0m \u001b[38;5;28mprint\u001b[39m()\n",
      "\u001b[1;31mIndexError\u001b[0m: index 105 is out of bounds for axis 0 with size 10"
     ]
    }
   ],
   "source": [
    "column = local_map[0:10][105]\n",
    "print()"
   ]
  },
  {
   "cell_type": "code",
   "execution_count": null,
   "metadata": {},
   "outputs": [],
   "source": [
    "list_state = np.array([[ 1.00000000e+02,  100.000000,  0],\n",
    "                    [ 101.177506,  114.950935, -4.92665016],\n",
    "                    [ 102.643622,  131.959477, -4.92665016],\n",
    "                    [ 104.109738,  148.968020, -4.92665016],\n",
    "                    [ 105.575854,  165.976562, -4.92665016],\n",
    "                    [ 107.041970,  182.985105, -4.92665016],\n",
    "                    [ 108.397387,  200.000000,  1.42108547]])\n",
    "\n",
    "\n"
   ]
  },
  {
   "cell_type": "code",
   "execution_count": null,
   "metadata": {},
   "outputs": [
    {
     "name": "stdout",
     "output_type": "stream",
     "text": [
      "4\n"
     ]
    },
    {
     "data": {
      "text/plain": [
       "array([[140, 710],\n",
       "       [141, 696],\n",
       "       [142, 679],\n",
       "       [144, 662],\n",
       "       [145, 645],\n",
       "       [147, 628],\n",
       "       [148, 610]])"
      ]
     },
     "execution_count": 38,
     "metadata": {},
     "output_type": "execute_result"
    }
   ],
   "source": [
    "start = time.time()\n",
    "\n",
    "end = time.time()\n",
    "print(\"Elapsed (with compilation) = %s\" % (end - start))"
   ]
  },
  {
   "cell_type": "code",
   "execution_count": null,
   "metadata": {},
   "outputs": [],
   "source": []
  }
 ],
 "metadata": {
  "kernelspec": {
   "display_name": "Python 3",
   "language": "python",
   "name": "python3"
  },
  "language_info": {
   "codemirror_mode": {
    "name": "ipython",
    "version": 3
   },
   "file_extension": ".py",
   "mimetype": "text/x-python",
   "name": "python",
   "nbconvert_exporter": "python",
   "pygments_lexer": "ipython3",
   "version": "3.9.6"
  }
 },
 "nbformat": 4,
 "nbformat_minor": 2
}
