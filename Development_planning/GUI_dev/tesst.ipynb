{
 "cells": [
  {
   "cell_type": "code",
   "execution_count": 18,
   "metadata": {},
   "outputs": [],
   "source": [
    "import cv2\n",
    "from cv2 import cuda\n",
    "from math import*\n",
    "import numpy as np\n",
    "from numba import jit,njit\n",
    "import time\n",
    "import pandas as pd"
   ]
  },
  {
   "cell_type": "code",
   "execution_count": 19,
   "metadata": {},
   "outputs": [],
   "source": [
    "map = np.zeros((200,200))\n",
    "map[:25][30:45] = 1\n"
   ]
  },
  {
   "cell_type": "code",
   "execution_count": 25,
   "metadata": {},
   "outputs": [],
   "source": [
    "@jit(nopython = True)\n",
    "def check_colision_goal (loc_map, goal_x, goal_y, current_x, current_y):\n",
    "\n",
    "    if current_x >= goal_x:\n",
    "        loc_x_check = 100 -(current_x - goal_x)\n",
    "        if current_y >= goal_y:\n",
    "            loc_y_check = 100 +(current_y - goal_y)\n",
    "        else:\n",
    "            loc_y_check = 100 -(goal_y - current_y)\n",
    "           \n",
    "    else:\n",
    "        loc_x_check = 100 + (goal_x - current_x)\n",
    "        if current_y >= goal_y:\n",
    "            loc_y_check = 100 +(current_y - goal_y)\n",
    "        else:\n",
    "            loc_y_check = 100 -(goal_y - current_y)\n",
    "            \n",
    "\n",
    "    loc_x_check = int(loc_x_check)\n",
    "    loc_y_check = int(loc_y_check)\n",
    "    # dò sang bên phải \n",
    "    for cnt_right in range(loc_x_check,200-loc_x_check):\n",
    "        if loc_map[loc_y_check][loc_x_check] == 0:\n",
    "            break\n",
    "    for cnt_left in range(loc_x_check,-1,-1):\n",
    "        if loc_map[loc_y_check][loc_x_check] == 0:\n",
    "            break\n",
    "    if cnt_right > 190 and cnt_left < 10:\n",
    "        colision = True\n",
    "        x_out = 0\n",
    "        y_out = 0\n",
    "    else:\n",
    "        colision = False\n",
    "        if cnt_right <= cnt_left:\n",
    "            x_out = goal_x + cnt_right\n",
    "            y_out = goal_y\n",
    "        else:\n",
    "            x_out = goal_x - cnt_left\n",
    "            y_out = goal_y\n",
    "    return colision, x_out,y_out\n",
    "\n",
    "@jit(nopython=True)\n",
    "def create_local_map(glo_map,current_x, current_y):\n",
    "    start_x = max(current_x - 100, 0)\n",
    "    start_y = max(current_y - 100, 0)\n",
    "    end_x = min(start_x + 200, glo_map.shape[1])\n",
    "    end_y = min(start_y + 200, glo_map.shape[0])\n",
    "    loc_map = glo_map[start_y:end_y, start_x:end_x]\n",
    "    return loc_map,start_x,end_x,start_y,end_y"
   ]
  },
  {
   "cell_type": "code",
   "execution_count": 100,
   "metadata": {},
   "outputs": [
    {
     "name": "stdout",
     "output_type": "stream",
     "text": [
      "Elapsed (with compilation) = 0.0\n",
      "Elapsed (with compilation) = 0.0\n"
     ]
    }
   ],
   "source": [
    "\n",
    "start = time.time()\n",
    "check_colision_goal (loc_map = map, goal_x = 315, goal_y =400, current_x=400, current_y=315)\n",
    "\n",
    "end = time.time()\n",
    "print(\"Elapsed (with compilation) = %s\" % (end - start))\n",
    "\n"
   ]
  },
  {
   "cell_type": "code",
   "execution_count": null,
   "metadata": {},
   "outputs": [],
   "source": [
    "# Tạo một hình ảnh trắng\n",
    "image = 255 * np.ones((500, 500, 3), dtype=np.uint8)\n",
    "\n",
    "# Tọa độ và kích thước của hình vuông\n",
    "x, y = 100, 100\n",
    "size = 200\n",
    "\n",
    "# Màu sắc của hình vuông (BGR)\n",
    "color = (0, 255, 0)  # Màu xanh lá cây\n",
    "\n",
    "# Độ dày của đường viền (nếu muốn)\n",
    "thickness = 2\n",
    "\n",
    "# Vẽ hình vuông trên hình ảnh\n",
    "cv2.rectangle(image, (x, y), (x + size, y + size), color, thickness)\n",
    "\n",
    "# Hiển thị hình ảnh với hình vuông đã vẽ\n",
    "cv2.imshow(\"Square\", image)\n",
    "cv2.waitKey(0)\n",
    "cv2.destroyAllWindows()"
   ]
  }
 ],
 "metadata": {
  "kernelspec": {
   "display_name": "Python 3",
   "language": "python",
   "name": "python3"
  },
  "language_info": {
   "codemirror_mode": {
    "name": "ipython",
    "version": 3
   },
   "file_extension": ".py",
   "mimetype": "text/x-python",
   "name": "python",
   "nbconvert_exporter": "python",
   "pygments_lexer": "ipython3",
   "version": "3.9.6"
  }
 },
 "nbformat": 4,
 "nbformat_minor": 2
}
