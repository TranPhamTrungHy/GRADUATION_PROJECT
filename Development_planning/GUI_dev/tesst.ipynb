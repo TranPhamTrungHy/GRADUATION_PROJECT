{
 "cells": [
  {
   "cell_type": "code",
   "execution_count": 2,
   "metadata": {},
   "outputs": [
    {
     "name": "stdout",
     "output_type": "stream",
     "text": [
      "MALAB ENGINE FINISHED BEGINNING !!!\n"
     ]
    }
   ],
   "source": [
    "import cv2\n",
    "from cv2 import cuda\n",
    "from math import*\n",
    "import numpy as np\n",
    "from numba import jit,njit\n",
    "import time\n",
    "import pandas as pd\n",
    "import matlab.engine\n",
    "# Khởi động matlab engine\n",
    "eng = matlab.engine.start_matlab()\n",
    "print('MALAB ENGINE FINISHED BEGINNING !!!')"
   ]
  },
  {
   "cell_type": "code",
   "execution_count": 3,
   "metadata": {},
   "outputs": [],
   "source": [
    "def calculate_trajectory(map,startPoint,goalPoint):\n",
    "    startPoint = matlab.double(startPoint) # [meters, meters, radians]\n",
    "    goalPoint  = matlab.double(goalPoint)\n",
    "    map  = matlab.double(map.tolist())\n",
    "    result = eng.Hybrid_Astar(map,startPoint,goalPoint)\n",
    "    result = np.array(result)\n",
    "    point = result[:,:3]\n",
    "    point[:,2] = (point[:,2]*180/pi)-90\n",
    "    direction = result[:,3]\n",
    "    return point, direction"
   ]
  },
  {
   "cell_type": "code",
   "execution_count": 9,
   "metadata": {},
   "outputs": [
    {
     "name": "stdout",
     "output_type": "stream",
     "text": [
      "[100, 100, 1.5707963267948966]\n"
     ]
    },
    {
     "ename": "MatlabExecutionError",
     "evalue": "\n  File C:\\Program Files\\MATLAB\\R2021b\\toolbox\\nav\\navalgs2\\plannerHybridAStar.m, line 294, in plannerHybridAStar.validateStartGoal\n\n  File C:\\Program Files\\MATLAB\\R2021b\\toolbox\\nav\\navalgs2\\plannerHybridAStar.m, line 1020, in plannerHybridAStar.plan\n\n  File D:\\GRADUATION_PROJECT\\Development_planning\\GUI_dev\\Hybrid_Astar.m, line 23, in Hybrid_Astar\nStart state is not valid based on the planner's state validator.\n",
     "output_type": "error",
     "traceback": [
      "\u001b[1;31m---------------------------------------------------------------------------\u001b[0m",
      "\u001b[1;31mMatlabExecutionError\u001b[0m                      Traceback (most recent call last)",
      "Cell \u001b[1;32mIn[9], line 7\u001b[0m\n\u001b[0;32m      4\u001b[0m s_state \u001b[38;5;241m=\u001b[39m [\u001b[38;5;241m100\u001b[39m, \u001b[38;5;241m100\u001b[39m, (\u001b[38;5;241m0\u001b[39m\u001b[38;5;241m+\u001b[39m\u001b[38;5;241m90\u001b[39m)\u001b[38;5;241m*\u001b[39mpi\u001b[38;5;241m/\u001b[39m\u001b[38;5;241m180\u001b[39m]\n\u001b[0;32m      6\u001b[0m \u001b[38;5;28mprint\u001b[39m(s_state)\n\u001b[1;32m----> 7\u001b[0m list_state, list_direction \u001b[38;5;241m=\u001b[39m \u001b[43mcalculate_trajectory\u001b[49m\u001b[43m(\u001b[49m\u001b[38;5;28;43mmap\u001b[39;49m\u001b[43m \u001b[49m\u001b[38;5;241;43m=\u001b[39;49m\u001b[43m \u001b[49m\u001b[43mlocal_map\u001b[49m\u001b[43m \u001b[49m\u001b[43m,\u001b[49m\u001b[43mstartPoint\u001b[49m\u001b[43m \u001b[49m\u001b[38;5;241;43m=\u001b[39;49m\u001b[43m \u001b[49m\u001b[43ms_state\u001b[49m\u001b[43m,\u001b[49m\u001b[43m \u001b[49m\u001b[43mgoalPoint\u001b[49m\u001b[43m \u001b[49m\u001b[38;5;241;43m=\u001b[39;49m\u001b[43m \u001b[49m\u001b[43mgoalChecked\u001b[49m\u001b[43m)\u001b[49m\n",
      "Cell \u001b[1;32mIn[3], line 5\u001b[0m, in \u001b[0;36mcalculate_trajectory\u001b[1;34m(map, startPoint, goalPoint)\u001b[0m\n\u001b[0;32m      3\u001b[0m goalPoint  \u001b[38;5;241m=\u001b[39m matlab\u001b[38;5;241m.\u001b[39mdouble(goalPoint)\n\u001b[0;32m      4\u001b[0m \u001b[38;5;28mmap\u001b[39m  \u001b[38;5;241m=\u001b[39m matlab\u001b[38;5;241m.\u001b[39mdouble(\u001b[38;5;28mmap\u001b[39m\u001b[38;5;241m.\u001b[39mtolist())\n\u001b[1;32m----> 5\u001b[0m result \u001b[38;5;241m=\u001b[39m \u001b[43meng\u001b[49m\u001b[38;5;241;43m.\u001b[39;49m\u001b[43mHybrid_Astar\u001b[49m\u001b[43m(\u001b[49m\u001b[38;5;28;43mmap\u001b[39;49m\u001b[43m,\u001b[49m\u001b[43mstartPoint\u001b[49m\u001b[43m,\u001b[49m\u001b[43mgoalPoint\u001b[49m\u001b[43m)\u001b[49m\n\u001b[0;32m      6\u001b[0m result \u001b[38;5;241m=\u001b[39m np\u001b[38;5;241m.\u001b[39marray(result)\n\u001b[0;32m      7\u001b[0m point \u001b[38;5;241m=\u001b[39m result[:,:\u001b[38;5;241m3\u001b[39m]\n",
      "File \u001b[1;32mc:\\Users\\dinhthang\\AppData\\Local\\Programs\\Python\\Python39\\lib\\site-packages\\matlab\\engine\\matlabengine.py:70\u001b[0m, in \u001b[0;36mMatlabFunc.__call__\u001b[1;34m(self, *args, **kwargs)\u001b[0m\n\u001b[0;32m     68\u001b[0m     \u001b[38;5;28;01mreturn\u001b[39;00m FutureResult(\u001b[38;5;28mself\u001b[39m\u001b[38;5;241m.\u001b[39m_engine(), future, nargs, _stdout, _stderr, feval\u001b[38;5;241m=\u001b[39m\u001b[38;5;28;01mTrue\u001b[39;00m)\n\u001b[0;32m     69\u001b[0m \u001b[38;5;28;01melse\u001b[39;00m:\n\u001b[1;32m---> 70\u001b[0m     \u001b[38;5;28;01mreturn\u001b[39;00m \u001b[43mFutureResult\u001b[49m\u001b[43m(\u001b[49m\u001b[38;5;28;43mself\u001b[39;49m\u001b[38;5;241;43m.\u001b[39;49m\u001b[43m_engine\u001b[49m\u001b[43m(\u001b[49m\u001b[43m)\u001b[49m\u001b[43m,\u001b[49m\u001b[43m \u001b[49m\u001b[43mfuture\u001b[49m\u001b[43m,\u001b[49m\u001b[43m \u001b[49m\u001b[43mnargs\u001b[49m\u001b[43m,\u001b[49m\u001b[43m \u001b[49m\u001b[43m_stdout\u001b[49m\u001b[43m,\u001b[49m\n\u001b[0;32m     71\u001b[0m \u001b[43m                        \u001b[49m\u001b[43m_stderr\u001b[49m\u001b[43m,\u001b[49m\u001b[43m \u001b[49m\u001b[43mfeval\u001b[49m\u001b[38;5;241;43m=\u001b[39;49m\u001b[38;5;28;43;01mTrue\u001b[39;49;00m\u001b[43m)\u001b[49m\u001b[38;5;241;43m.\u001b[39;49m\u001b[43mresult\u001b[49m\u001b[43m(\u001b[49m\u001b[43m)\u001b[49m\n",
      "File \u001b[1;32mc:\\Users\\dinhthang\\AppData\\Local\\Programs\\Python\\Python39\\lib\\site-packages\\matlab\\engine\\futureresult.py:67\u001b[0m, in \u001b[0;36mFutureResult.result\u001b[1;34m(self, timeout)\u001b[0m\n\u001b[0;32m     64\u001b[0m     \u001b[38;5;28;01mif\u001b[39;00m timeout \u001b[38;5;241m<\u001b[39m \u001b[38;5;241m0\u001b[39m:\n\u001b[0;32m     65\u001b[0m         \u001b[38;5;28;01mraise\u001b[39;00m \u001b[38;5;167;01mTypeError\u001b[39;00m(pythonengine\u001b[38;5;241m.\u001b[39mgetMessage(\u001b[38;5;124m'\u001b[39m\u001b[38;5;124mTimeoutCannotBeNegative\u001b[39m\u001b[38;5;124m'\u001b[39m))\n\u001b[1;32m---> 67\u001b[0m \u001b[38;5;28;01mreturn\u001b[39;00m \u001b[38;5;28;43mself\u001b[39;49m\u001b[38;5;241;43m.\u001b[39;49m\u001b[43m__future\u001b[49m\u001b[38;5;241;43m.\u001b[39;49m\u001b[43mresult\u001b[49m\u001b[43m(\u001b[49m\u001b[43mtimeout\u001b[49m\u001b[43m)\u001b[49m\n",
      "File \u001b[1;32mc:\\Users\\dinhthang\\AppData\\Local\\Programs\\Python\\Python39\\lib\\site-packages\\matlab\\engine\\fevalfuture.py:82\u001b[0m, in \u001b[0;36mFevalFuture.result\u001b[1;34m(self, timeout)\u001b[0m\n\u001b[0;32m     79\u001b[0m \u001b[38;5;28;01mif\u001b[39;00m \u001b[38;5;129;01mnot\u001b[39;00m result_ready:\n\u001b[0;32m     80\u001b[0m     \u001b[38;5;28;01mraise\u001b[39;00m \u001b[38;5;167;01mTimeoutError\u001b[39;00m(pythonengine\u001b[38;5;241m.\u001b[39mgetMessage(\u001b[38;5;124m'\u001b[39m\u001b[38;5;124mMatlabFunctionTimeout\u001b[39m\u001b[38;5;124m'\u001b[39m))\n\u001b[1;32m---> 82\u001b[0m \u001b[38;5;28mself\u001b[39m\u001b[38;5;241m.\u001b[39m_result \u001b[38;5;241m=\u001b[39m \u001b[43mpythonengine\u001b[49m\u001b[38;5;241;43m.\u001b[39;49m\u001b[43mgetFEvalResult\u001b[49m\u001b[43m(\u001b[49m\u001b[38;5;28;43mself\u001b[39;49m\u001b[38;5;241;43m.\u001b[39;49m\u001b[43m_future\u001b[49m\u001b[43m,\u001b[49m\u001b[38;5;28;43mself\u001b[39;49m\u001b[38;5;241;43m.\u001b[39;49m\u001b[43m_nargout\u001b[49m\u001b[43m,\u001b[49m\u001b[43m \u001b[49m\u001b[38;5;28;43;01mNone\u001b[39;49;00m\u001b[43m,\u001b[49m\u001b[43m \u001b[49m\u001b[43mout\u001b[49m\u001b[38;5;241;43m=\u001b[39;49m\u001b[38;5;28;43mself\u001b[39;49m\u001b[38;5;241;43m.\u001b[39;49m\u001b[43m_out\u001b[49m\u001b[43m,\u001b[49m\u001b[43m \u001b[49m\u001b[43merr\u001b[49m\u001b[38;5;241;43m=\u001b[39;49m\u001b[38;5;28;43mself\u001b[39;49m\u001b[38;5;241;43m.\u001b[39;49m\u001b[43m_err\u001b[49m\u001b[43m)\u001b[49m\n\u001b[0;32m     83\u001b[0m \u001b[38;5;28mself\u001b[39m\u001b[38;5;241m.\u001b[39m_retrieved \u001b[38;5;241m=\u001b[39m \u001b[38;5;28;01mTrue\u001b[39;00m\n\u001b[0;32m     84\u001b[0m \u001b[38;5;28;01mreturn\u001b[39;00m \u001b[38;5;28mself\u001b[39m\u001b[38;5;241m.\u001b[39m_result\n",
      "\u001b[1;31mMatlabExecutionError\u001b[0m: \n  File C:\\Program Files\\MATLAB\\R2021b\\toolbox\\nav\\navalgs2\\plannerHybridAStar.m, line 294, in plannerHybridAStar.validateStartGoal\n\n  File C:\\Program Files\\MATLAB\\R2021b\\toolbox\\nav\\navalgs2\\plannerHybridAStar.m, line 1020, in plannerHybridAStar.plan\n\n  File D:\\GRADUATION_PROJECT\\Development_planning\\GUI_dev\\Hybrid_Astar.m, line 23, in Hybrid_Astar\nStart state is not valid based on the planner's state validator.\n"
     ]
    }
   ],
   "source": [
    "local_map =np.array(pd.read_csv(\"map_test.csv\"))\n",
    "\n",
    "goalChecked = [108, 199, 1.5707963267948966]\n",
    "s_state = [100, 100, (0+90)*pi/180]\n",
    "\n",
    "print(s_state)\n",
    "list_state, list_direction = calculate_trajectory(map = local_map ,startPoint = s_state, goalPoint = goalChecked)\n"
   ]
  },
  {
   "cell_type": "code",
   "execution_count": 4,
   "metadata": {},
   "outputs": [],
   "source": [
    "list_state = np.array([[ 1.00000000e+02,  100.000000,  0],\n",
    "                [ 101.177506,  114.950935, -4.92665016],\n",
    "                [ 102.643622,  131.959477, -4.92665016],\n",
    "                [ 104.109738,  148.968020, -4.92665016],\n",
    "                [ 105.575854,  165.976562, -4.92665016],\n",
    "                [ 107.041970,  182.985105, -4.92665016],\n",
    "                [ 108.397387,  200.000000,  1.42108547]])\n",
    "\n",
    "\n"
   ]
  },
  {
   "cell_type": "code",
   "execution_count": 38,
   "metadata": {},
   "outputs": [
    {
     "name": "stdout",
     "output_type": "stream",
     "text": [
      "4\n"
     ]
    },
    {
     "data": {
      "text/plain": [
       "array([[140, 710],\n",
       "       [141, 696],\n",
       "       [142, 679],\n",
       "       [144, 662],\n",
       "       [145, 645],\n",
       "       [147, 628],\n",
       "       [148, 610]])"
      ]
     },
     "execution_count": 38,
     "metadata": {},
     "output_type": "execute_result"
    }
   ],
   "source": []
  },
  {
   "cell_type": "code",
   "execution_count": null,
   "metadata": {},
   "outputs": [],
   "source": []
  }
 ],
 "metadata": {
  "kernelspec": {
   "display_name": "Python 3",
   "language": "python",
   "name": "python3"
  },
  "language_info": {
   "codemirror_mode": {
    "name": "ipython",
    "version": 3
   },
   "file_extension": ".py",
   "mimetype": "text/x-python",
   "name": "python",
   "nbconvert_exporter": "python",
   "pygments_lexer": "ipython3",
   "version": "3.9.6"
  }
 },
 "nbformat": 4,
 "nbformat_minor": 2
}
