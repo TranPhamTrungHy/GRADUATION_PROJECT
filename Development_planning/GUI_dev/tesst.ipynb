{
 "cells": [
  {
   "cell_type": "code",
   "execution_count": 1,
   "metadata": {},
   "outputs": [
    {
     "name": "stdout",
     "output_type": "stream",
     "text": [
      "MALAB ENGINE FINISHED BEGINNING !!!\n"
     ]
    }
   ],
   "source": [
    "import cv2\n",
    "from cv2 import cuda\n",
    "from math import*\n",
    "import numpy as np\n",
    "from numba import jit,njit\n",
    "import time\n",
    "import pandas as pd\n",
    "import matlab.engine\n",
    "# Khởi động matlab engine\n",
    "eng = matlab.engine.start_matlab()\n",
    "print('MALAB ENGINE FINISHED BEGINNING !!!')"
   ]
  },
  {
   "cell_type": "code",
   "execution_count": 1,
   "metadata": {},
   "outputs": [
    {
     "name": "stdout",
     "output_type": "stream",
     "text": [
      "Phiên bản OpenCV: 4.9.0\n"
     ]
    }
   ],
   "source": [
    "import cv2\n",
    "from cv2 import cuda\n",
    "# Kiểm tra phiên bản OpenCV\n",
    "opencv_version = cv2.__version__\n",
    "print(\"Phiên bản OpenCV:\", opencv_version)"
   ]
  },
  {
   "cell_type": "code",
   "execution_count": 2,
   "metadata": {},
   "outputs": [],
   "source": [
    "\n",
    "def calculate_trajectory(map,startPoint,goalPoint,space):\n",
    "    startPoint = matlab.double(startPoint) # [meters, meters, radians]\n",
    "    goalPoint  = matlab.double(goalPoint)\n",
    "    map  = matlab.double(map.tolist())\n",
    "    space = eng.double(space)\n",
    "    result = eng.Hybrid_Astar(map,startPoint,goalPoint,space)\n",
    "    result = np.array(result)\n",
    "    point = result[:,:3]\n",
    "    point[:,2] = (point[:,2]*180/pi)-90\n",
    "    direction = result[:,3]\n",
    "    return point, direction"
   ]
  },
  {
   "cell_type": "code",
   "execution_count": 3,
   "metadata": {},
   "outputs": [],
   "source": [
    "local_map =np.array(pd.read_csv(\"map_test.csv\"))\n",
    "\n",
    "local_map[0,70:80]=1\n",
    "\n",
    "goalPose = [79, 199, 1.5707963267948966]\n",
    "s_state = [100, 100, (0+90)*pi/180]\n",
    "\n",
    "\n",
    "def check_collision_goal (loc_map, goal_x, goal_y):\n",
    "    loc_x_check = int(goal_x)\n",
    "    loc_y_check = int(200-goal_y)\n",
    "    loc_y_up = max(min(loc_y_check-15, 200), 0)\n",
    "    loc_y_down = max(min(loc_y_check+15, 200), 0)\n",
    "\n",
    "    \n",
    "    chk_right = 0\n",
    "    chk_left = 0\n",
    "    max_cnt_right = 200 - loc_x_check\n",
    "    max_cnt_left  = loc_x_check \n",
    "    collision = False\n",
    "    # dò sang bên phải \n",
    "    for cnt_right in range(0,max_cnt_right):\n",
    "        column = loc_map[loc_y_up:loc_y_down,loc_x_check+cnt_right]\n",
    "        if np.all(column == 0):\n",
    "            chk_right = chk_right + 1 \n",
    "            if chk_right == 15:\n",
    "                break\n",
    "        else: \n",
    "            chk_right = 0\n",
    "    for cnt_left in range(0,max_cnt_left):\n",
    "        column = loc_map[loc_y_up:loc_y_down,loc_x_check-cnt_left]\n",
    "        if np.all( column == 0):\n",
    "            chk_left = chk_left + 1 \n",
    "            if chk_left == 15:\n",
    "                break\n",
    "        else: \n",
    "            chk_left = 0\n",
    "    if cnt_right > max_cnt_right-5  and  cnt_left>max_cnt_left-5 :\n",
    "        collision = True\n",
    "        x_out = 0\n",
    "        y_out = 0\n",
    "    \n",
    "    elif cnt_right > max_cnt_right-5 :\n",
    "        x_out = goal_x - cnt_left \n",
    "        y_out = goal_y\n",
    "\n",
    "\n",
    "    elif cnt_left > max_cnt_left-5:\n",
    "        x_out = goal_x + cnt_right \n",
    "        y_out = goal_y\n",
    "\n",
    "    else:\n",
    "        if cnt_right <= cnt_left:\n",
    "            x_out = goal_x + cnt_right \n",
    "            y_out = goal_y\n",
    "\n",
    "        else:\n",
    "            x_out = goal_x - cnt_left \n",
    "            y_out = goal_y\n",
    "\n",
    "    print(cnt_left,chk_left , cnt_right,chk_right)\n",
    "    map = np.copy(loc_map)\n",
    "    return map,collision, x_out,y_out\n",
    "\n"
   ]
  },
  {
   "cell_type": "code",
   "execution_count": 141,
   "metadata": {},
   "outputs": [
    {
     "name": "stdout",
     "output_type": "stream",
     "text": [
      "27 15 15 15\n",
      "Elapsed (with compilation) = 0.0009903907775878906\n",
      "Elapsed (with compilation) = 0.28711366653442383\n"
     ]
    }
   ],
   "source": [
    "start = time.time()\n",
    "\n",
    "\n",
    "chk_local_map, check_colision, checked_goal_x, checked_goal_y = check_collision_goal (loc_map = local_map, goal_x = goalPose[0], goal_y = goalPose[1])\n",
    "# goalChecked = [int(checked_goal_x),int(checked_goal_y), goalPose[2]]\n",
    "goalChecked = [90,120,pi]\n",
    "end = time.time()\n",
    "print(\"Elapsed (with compilation) = %s\" % (end - start))\n",
    "\n",
    "list_state, list_direction = calculate_trajectory(map = chk_local_map ,startPoint = s_state, goalPoint = goalChecked,space=10)\n",
    "end = time.time()\n",
    "print(\"Elapsed (with compilation) = %s\" % (end - start))"
   ]
  },
  {
   "cell_type": "code",
   "execution_count": 112,
   "metadata": {},
   "outputs": [
    {
     "data": {
      "text/plain": [
       "array([[1.00000000e+02, 1.00000000e+02, 1.42108547e-14],\n",
       "       [9.83487084e+01, 1.09815841e+02, 1.90985932e+01],\n",
       "       [9.20359312e+01, 1.20357253e+02, 4.27323954e+01],\n",
       "       [8.81814263e+01, 1.23862853e+02, 5.26957399e+01],\n",
       "       [9.43361652e+01, 1.20241914e+02, 6.63661977e+01],\n",
       "       [9.81814263e+01, 1.18862853e+02, 7.41741577e+01],\n",
       "       [9.00000000e+01, 1.20000000e+02, 9.00000000e+01]])"
      ]
     },
     "execution_count": 112,
     "metadata": {},
     "output_type": "execute_result"
    }
   ],
   "source": [
    "list_state"
   ]
  },
  {
   "cell_type": "code",
   "execution_count": 44,
   "metadata": {},
   "outputs": [
    {
     "name": "stdout",
     "output_type": "stream",
     "text": [
      "1 = 0.0005831718444824219\n",
      "2 = 0.0005831718444824219\n",
      "3 = 0.04107260704040527\n",
      "4 = 0.04707527160644531\n",
      "5 = 0.3363003730773926\n",
      "6 = 0.33730101585388184\n"
     ]
    }
   ],
   "source": [
    "start1 = time.time()\n",
    "map = chk_local_map \n",
    "startPoint = s_state \n",
    "goalPoint = goalChecked\n",
    "space=5\n",
    "startPoint = matlab.double(startPoint) # [meters, meters, radians]\n",
    "end1 = time.time()\n",
    "print(\"1 = %s\" % (end1 - start1))\n",
    "goalPoint  = matlab.double(goalPoint)\n",
    "end1 = time.time()\n",
    "print(\"2 = %s\" % (end1 - start1))\n",
    "map  = matlab.double(map.tolist())\n",
    "end1 = time.time()\n",
    "print(\"3 = %s\" % (end1 - start1))\n",
    "space = eng.double(space)\n",
    "end1 = time.time()\n",
    "print(\"4 = %s\" % (end1 - start1))\n",
    "result = eng.Hybrid_Astar(map,startPoint,goalPoint,space)\n",
    "end1 = time.time()\n",
    "print(\"5 = %s\" % (end1 - start1))\n",
    "result = np.array(result)\n",
    "point = result[:,:3]\n",
    "point[:,2] = (point[:,2]*180/pi)-90\n",
    "direction = result[:,3]\n",
    "end1 = time.time()\n",
    "print(\"6 = %s\" % (end1 - start1))"
   ]
  },
  {
   "cell_type": "code",
   "execution_count": 20,
   "metadata": {},
   "outputs": [
    {
     "data": {
      "text/plain": [
       "array([[1.00000000e+02, 1.00000000e+02, 1.42108547e-14],\n",
       "       [9.97487997e+01, 1.04992837e+02, 3.53414646e+00],\n",
       "       [9.94262544e+01, 1.10215327e+02, 3.53414646e+00],\n",
       "       [9.91037090e+01, 1.15437817e+02, 3.53414646e+00],\n",
       "       [9.87811637e+01, 1.20660307e+02, 3.53414646e+00],\n",
       "       [9.84586183e+01, 1.25882796e+02, 3.53414646e+00],\n",
       "       [9.81360730e+01, 1.31105286e+02, 3.53414646e+00],\n",
       "       [9.78135276e+01, 1.36327776e+02, 3.53414646e+00],\n",
       "       [9.74909823e+01, 1.41550266e+02, 3.53414646e+00],\n",
       "       [9.71684369e+01, 1.46772756e+02, 3.53414646e+00],\n",
       "       [9.68458915e+01, 1.51995246e+02, 3.53414646e+00],\n",
       "       [9.65233462e+01, 1.57217735e+02, 3.53414646e+00],\n",
       "       [9.62008008e+01, 1.62440225e+02, 3.53414646e+00],\n",
       "       [9.58782555e+01, 1.67662715e+02, 3.53414646e+00],\n",
       "       [9.55557101e+01, 1.72885205e+02, 3.53414646e+00],\n",
       "       [9.52331648e+01, 1.78107695e+02, 3.53414646e+00],\n",
       "       [9.49106194e+01, 1.83330185e+02, 3.53414646e+00],\n",
       "       [9.45880740e+01, 1.88552674e+02, 3.53414646e+00],\n",
       "       [9.42655287e+01, 1.93775164e+02, 3.53414646e+00],\n",
       "       [9.40000000e+01, 1.99000000e+02, 1.42108547e-14]])"
      ]
     },
     "execution_count": 20,
     "metadata": {},
     "output_type": "execute_result"
    }
   ],
   "source": [
    "list_state"
   ]
  },
  {
   "cell_type": "code",
   "execution_count": 4,
   "metadata": {},
   "outputs": [],
   "source": [
    "global actual_angle \n",
    "actual_angle = 0"
   ]
  },
  {
   "cell_type": "code",
   "execution_count": 5,
   "metadata": {},
   "outputs": [],
   "source": [
    "def find_goalPose (glo_state,current_x, current_y, current_step ):\n",
    "    state = np.copy(glo_state)\n",
    "    current_x = current_x*10\n",
    "    current_y = current_y*10\n",
    "    for step in range(current_step,len(state)):\n",
    "        dis = sqrt((state[step,0]-current_x)**2 + (state[step,1]-current_y)**2)\n",
    "        if dis >= 90:\n",
    "            break\n",
    "    goal = state[step]\n",
    "    print(goal)\n",
    "    goal[0]= max(min(100+(goal[0]-current_x), 199), 0)\n",
    "    goal[1]= max(min(100+(goal[1]-current_y), 199), 0)\n",
    "    goal[2]= (actual_angle+90)*pi/180\n",
    "    return goal,step"
   ]
  },
  {
   "cell_type": "code",
   "execution_count": 11,
   "metadata": {},
   "outputs": [
    {
     "data": {
      "text/plain": [
       "array([[130.        ,  40.        ,   0.        ],\n",
       "       [127.03978728,  54.60318784,  22.91831181],\n",
       "       [114.27438436,  81.39253688,   7.63943727],\n",
       "       [113.60833466,  96.37032947,   3.81971863],\n",
       "       [111.86302929, 111.26215513,   9.54929659],\n",
       "       [110.11772392, 126.1539808 ,   3.81971863],\n",
       "       [109.78451403, 141.14657504,   0.        ],\n",
       "       [109.78451403, 156.14657504,   0.        ],\n",
       "       [109.78451403, 171.14657504,   0.        ],\n",
       "       [109.78451403, 186.14657504,   0.        ],\n",
       "       [109.78451403, 201.14657504,   0.        ],\n",
       "       [109.78451403, 216.14657504,   0.        ],\n",
       "       [109.78451403, 231.14657504,   0.        ],\n",
       "       [108.78784292, 246.08004158,  11.4591559 ],\n",
       "       [103.66364212, 260.11785197,  28.64788976],\n",
       "       [ 98.2126555 , 274.07824479,  20.03524715],\n",
       "       [ 93.03380696, 288.27982493,  20.03524715],\n",
       "       [ 87.85495842, 302.48140507,  20.03524715],\n",
       "       [ 82.67610987, 316.68298521,  20.03524715],\n",
       "       [ 77.49726133, 330.88456535,  20.03524715],\n",
       "       [ 72.31841279, 345.08614549,  20.03524715],\n",
       "       [ 67.13956424, 359.28772563,  20.03524715],\n",
       "       [ 61.9607157 , 373.48930577,  20.03524715],\n",
       "       [ 56.78186716, 387.69088591,  20.03524715],\n",
       "       [ 51.60301861, 401.89246605,  20.03524715],\n",
       "       [ 46.42417007, 416.09404619,  20.03524715],\n",
       "       [ 41.24532153, 430.29562633,  20.03524715],\n",
       "       [ 33.15253058, 442.87803905,  47.12981514],\n",
       "       [ 20.        , 450.        ,  76.        ]])"
      ]
     },
     "execution_count": 11,
     "metadata": {},
     "output_type": "execute_result"
    }
   ],
   "source": [
    "list_state_global =np.array([[1.300000000000000000e+02,4.000000000000000000e+01,0.000000000000000000e+00],\n",
    "[1.270397872751081820e+02,5.460318783657439212e+01,2.291831180523293199e+01],\n",
    "[1.142743843569894011e+02,8.139253688189347713e+01,7.639437268410972592e+00],\n",
    "[1.136083346634394786e+02,9.637032946873921446e+01,3.819718634205486296e+00],\n",
    "[1.118630292927098822e+02,1.112621551342425192e+02,9.549296585513715740e+00],\n",
    "[1.101177239219802857e+02,1.261539807997458382e+02,3.819718634205486296e+00],\n",
    "[1.097845140271486457e+02,1.411465750382547810e+02,0.000000000000000000e+00],\n",
    "[1.097845140271486457e+02,1.561465750382547810e+02,0.000000000000000000e+00],\n",
    "[1.097845140271486457e+02,1.711465750382547810e+02,0.000000000000000000e+00],\n",
    "[1.097845140271486457e+02,1.861465750382547810e+02,0.000000000000000000e+00],\n",
    "[1.097845140271486457e+02,2.011465750382547810e+02,0.000000000000000000e+00],\n",
    "[1.097845140271486457e+02,2.161465750382547810e+02,0.000000000000000000e+00],\n",
    "[1.097845140271486457e+02,2.311465750382547810e+02,0.000000000000000000e+00],\n",
    "[1.087878429192107319e+02,2.460800415780078367e+02,1.145915590261647310e+01],\n",
    "[1.036636421216672801e+02,2.601178519684649473e+02,2.864788975654117564e+01],\n",
    "[9.821265550402722511e+01,2.740782447937760935e+02,2.003524715430464198e+01],\n",
    "[9.303380696070581735e+01,2.882798249331102056e+02,2.003524715430464198e+01],\n",
    "[8.785495841738440959e+01,3.024814050724442609e+02,2.003524715430464198e+01],\n",
    "[8.267610987406300183e+01,3.166829852117784867e+02,2.003524715430464198e+01],\n",
    "[7.749726133074157985e+01,3.308845653511126557e+02,2.003524715430464198e+01],\n",
    "[7.231841278742017209e+01,3.450861454904467109e+02,2.003524715430464198e+01],\n",
    "[6.713956424409875012e+01,3.592877256297808799e+02,2.003524715430464198e+01],\n",
    "[6.196071570077732815e+01,3.734893057691150489e+02,2.003524715430464198e+01],\n",
    "[5.678186715745592750e+01,3.876908859084491041e+02,2.003524715430464198e+01],\n",
    "[5.160301861413449132e+01,4.018924660477832731e+02,2.003524715430464198e+01],\n",
    "[4.642417007081309066e+01,4.160940461871173852e+02,2.003524715430464198e+01],\n",
    "[4.124532152749166158e+01,4.302956263264516110e+02,2.003524715430464198e+01],\n",
    "[3.315253058244879014e+01,4.428780390506249773e+02,4.712981514410549266e+01],\n",
    "[2.000000000000000000e+01,4.500000000000000000e+02,7.600000000000002842e+01]])\n",
    "list_state_global "
   ]
  },
  {
   "cell_type": "code",
   "execution_count": 13,
   "metadata": {},
   "outputs": [
    {
     "name": "stdout",
     "output_type": "stream",
     "text": [
      "[109.78451403 141.14657504   0.        ]\n"
     ]
    },
    {
     "data": {
      "text/plain": [
       "(array([ 79.78451403, 199.        ,   1.57079633]), 6)"
      ]
     },
     "execution_count": 13,
     "metadata": {},
     "output_type": "execute_result"
    }
   ],
   "source": [
    "\n",
    "p_index = 0\n",
    "goalPose,index = find_goalPose (glo_state= list_state_global ,current_x = 13, current_y = 4, current_step = p_index)\n",
    "goalPose,index"
   ]
  },
  {
   "cell_type": "code",
   "execution_count": 16,
   "metadata": {},
   "outputs": [],
   "source": [
    "def transformation_matrix(center,arr_point_in):\n",
    "    point_in = np.copy(arr_point_in)\n",
    "    point_in = point_in.astype(np.int64)\n",
    "    array_out = np.array([])\n",
    "    rotation_matrix = np.array([[1, 0 ],\n",
    "                                [0, -1],])\n",
    "    translation_vector = np.array([center[0]*10-100, 750-(center[1]*10-100)])\n",
    "    for i in range(0, len(point_in)):\n",
    "        point = np.dot(rotation_matrix, point_in[i]) + translation_vector\n",
    "        if array_out.size == 0:  # Kiểm tra xem array_out có rỗng không\n",
    "            array_out = point\n",
    "        else:\n",
    "            array_out = np.vstack([array_out, point]) \n",
    "    return array_out"
   ]
  },
  {
   "cell_type": "code",
   "execution_count": 18,
   "metadata": {},
   "outputs": [],
   "source": [
    "list_state = np.array([[1.000000000000000000e+02,1.000000000000000000e+02,1.421085471520200372e-14],\n",
    "[9.899650494319288896e+01,1.149647166300241565e+02,4.134635781509260255e+00],\n",
    "[9.778160178814469816e+01,1.317710221176497214e+02,4.134635781509260255e+00],\n",
    "[9.656669863309650736e+01,1.485773276052752863e+02,4.134635781509260255e+00],\n",
    "[9.535179547804830236e+01,1.653836330929008511e+02,4.134635781509260255e+00],\n",
    "[9.413689232300009735e+01,1.821899385805264444e+02,4.134635781509260255e+00],\n",
    "[9.300000000000000000e+01,1.990000000000000000e+02,1.421085471520200372e-14]])\n"
   ]
  },
  {
   "cell_type": "code",
   "execution_count": 19,
   "metadata": {},
   "outputs": [
    {
     "data": {
      "text/plain": [
       "array([[130, 710],\n",
       "       [128, 696],\n",
       "       [127, 679],\n",
       "       [126, 662],\n",
       "       [125, 645],\n",
       "       [124, 628],\n",
       "       [123, 611]])"
      ]
     },
     "execution_count": 19,
     "metadata": {},
     "output_type": "execute_result"
    }
   ],
   "source": [
    "c =np.array([13,4])\n",
    "list_point = np.int32(transformation_matrix(c,list_state[:,:2]))\n",
    "list_point"
   ]
  },
  {
   "cell_type": "code",
   "execution_count": 1,
   "metadata": {},
   "outputs": [
    {
     "name": "stdout",
     "output_type": "stream",
     "text": [
      "Dung lượng của mảng NumPy: 320000 bytes\n",
      "Dung lượng của chuỗi JSON encoded: 200400 bytes\n"
     ]
    }
   ],
   "source": [
    "import numpy as np\n",
    "import json\n",
    "\n",
    "# Tạo mảng numpy với kích thước 200x200\n",
    "array_2d = np.zeros((200, 200), dtype=np.float64)\n",
    "\n",
    "# Tính toán dung lượng của mảng NumPy\n",
    "array_size_bytes = array_2d.nbytes\n",
    "\n",
    "# Encode mảng thành chuỗi JSON\n",
    "json_encoded = json.dumps(array_2d.tolist()).encode('utf-8')\n",
    "\n",
    "# Tính toán dung lượng của chuỗi JSON\n",
    "json_size_bytes = len(json_encoded)\n",
    "\n",
    "# In ra kết quả\n",
    "print(\"Dung lượng của mảng NumPy:\", array_size_bytes, \"bytes\")\n",
    "print(\"Dung lượng của chuỗi JSON encoded:\", json_size_bytes, \"bytes\")"
   ]
  },
  {
   "cell_type": "code",
   "execution_count": 139,
   "metadata": {},
   "outputs": [
    {
     "name": "stdout",
     "output_type": "stream",
     "text": [
      "EXIT MATLAB ENGINE !!!\n"
     ]
    }
   ],
   "source": [
    "eng.quit()\n",
    "print(\"EXIT MATLAB ENGINE !!!\")"
   ]
  }
 ],
 "metadata": {
  "kernelspec": {
   "display_name": "Python 3",
   "language": "python",
   "name": "python3"
  },
  "language_info": {
   "codemirror_mode": {
    "name": "ipython",
    "version": 3
   },
   "file_extension": ".py",
   "mimetype": "text/x-python",
   "name": "python",
   "nbconvert_exporter": "python",
   "pygments_lexer": "ipython3",
   "version": "3.9.6"
  }
 },
 "nbformat": 4,
 "nbformat_minor": 2
}
